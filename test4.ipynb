{
 "cells": [
  {
   "cell_type": "code",
   "execution_count": 23,
   "metadata": {},
   "outputs": [],
   "source": [
    "from sklearn.metrics import r2_score, make_scorer\n",
    "from sklearn.cross_decomposition import PLSRegression\n",
    "import sklearn\n",
    "from sklearn.model_selection import ShuffleSplit\n",
    "from sklearn.metrics import mean_squared_error\n",
    "import numpy as np\n",
    "import warnings\n",
    "from numpy.linalg import LinAlgError\n",
    "from paint_scripts.draw_valid_matrix_rus import Draw_valid_matrix_rus as painter\n",
    "from sklearn.model_selection import GridSearchCV\n",
    "from dataset_model import Dataset_model as dm\n",
    "from dataset_model import Centering_dataset_model as cdm\n",
    "from sklearn.exceptions import FitFailedWarning\n",
    "import numpy as np\n",
    "from sklearn.base import BaseEstimator\n",
    "from sklearn.base import RegressorMixin\n",
    "from signal_noise import signal_noise\n",
    "\n",
    "class npls_1(RegressorMixin,BaseEstimator):\n",
    "    def  __init__(self, excitation_wavelenth:np.ndarray=np.array([0]),\n",
    "                  emission_wavelenth:np.ndarray=np.array([0]), n_components:int=2,a:float=3,\n",
    "                  derivative_rang:list=[],norm_func:list=[],\n",
    "                  crash_norm_name:str=None,crash_norm_value:float=None):\n",
    "        self.n_components = n_components\n",
    "        self.a=a\n",
    "        self.derivative_rang=derivative_rang\n",
    "        self.norm_func=norm_func\n",
    "        self.crash_norm_name=crash_norm_name\n",
    "        self.crash_norm_value=crash_norm_value\n",
    "        self.excitation_wavelenth=excitation_wavelenth\n",
    "        self.emission_wavelenth=emission_wavelenth\n",
    "\n",
    "    def __check_smooth_loadings(self,w_i,excitation_wavelenth,\n",
    "                              w_k,emission_wavelenth, n_component:int) -> dict[str,dict]:\n",
    "        # print(w_i.shape,excitation_wavelenth.shape,\n",
    "        #                       w_k.shape,emission_wavelenth.shape, n_component)\n",
    "        resp_emission=self.__chek_smooth_one_model(w_k,emission_wavelenth)\n",
    "        resp_excitation=self.__chek_smooth_one_model(w_i,excitation_wavelenth)\n",
    "        if self.crash_norm_name is not None:\n",
    "            #print(resp_emission,self.crash_norm_name,resp_emission[self.crash_norm_name],resp_excitation[self.crash_norm_name])\n",
    "            for j in range(len(resp_emission[self.crash_norm_name])):\n",
    "                #print(resp_emission[self.crash_norm_name][j])\n",
    "                if resp_emission[self.crash_norm_name][j]<=self.crash_norm_value:\n",
    "                    error_message_1=f'Emission {n_component} component is a very noisy.'\n",
    "                    error_message_2=' May be you can choose another norm.'\n",
    "                    error_message_3=f' Now you choose {self.crash_norm_name} norm'\n",
    "                    error_message=error_message_1+error_message_2+error_message_3\n",
    "                    raise ValueError(error_message)\n",
    "                if resp_excitation[self.crash_norm_name][j]<=self.crash_norm_value:\n",
    "                    error_message_1=f'Excitation {n_component} component is a very noisy.'\n",
    "                    error_message_2=' May be you can choose another norm.'\n",
    "                    error_message_3=f' Now you choose {self.crash_norm_name} norm'\n",
    "                    error_message=error_message_1+error_message_2+error_message_3\n",
    "                    raise ValueError(error_message)\n",
    "        return {\n",
    "            \"Emission\":resp_emission,\n",
    "            \"Excitation\":resp_excitation\n",
    "            }\n",
    "\n",
    "\n",
    "    def __chek_smooth_one_model(self,signal,x) -> dict[str, list]:\n",
    "        model=signal_noise()\n",
    "        response=model.main(signal=signal,x=x)\n",
    "        #print(response,signal,x)\n",
    "        return response\n",
    "\n",
    "    def fit(self, xtrain, ytrain):\n",
    "        \"\"\"Fits the model to the data (X, y)\n",
    "        Parameters\n",
    "        ----------\n",
    "        X : ndarray\n",
    "        y : 1D-array of shape (n_samples, )\n",
    "            labels associated with each sample\n",
    "\n",
    "\n",
    "            \"\"\"\n",
    "        x=xtrain.copy()\n",
    "        y=ytrain.copy()\n",
    "\n",
    "        if len(self.derivative_rang)>0:\n",
    "            self.snr_emission=list()\n",
    "            self.snr_excitation=list()\n",
    "        Tt=np.zeros([x.shape[0],self.n_components])\n",
    "        mass=np.zeros([y.shape[0]])\n",
    "        y_copy=ytrain.copy()\n",
    "        w_k_mass=np.zeros([self.n_components,x.shape[1],1])\n",
    "        w_i_mass=np.zeros([self.n_components,x.shape[2],1])\n",
    "        bf_array=[]\n",
    "\n",
    "        mmas=np.zeros([x.shape[0],x.shape[1],x.shape[2]])\n",
    "        z_pz=np.eye(x.shape[1])\n",
    "\n",
    "        for f in range(0,self.n_components):\n",
    "            z=np.zeros([x.shape[1],x.shape[2]])\n",
    "            x_product=np.zeros([x.shape[0],x.shape[1],x.shape[2]])\n",
    "            for i in range(0,x.shape[0]):\n",
    "                x_product[i,:,:]=y[i]*x[i,:,:]\n",
    "            z=x_product.sum(axis=0)\n",
    "            Wk, S, WI = np.linalg.svd(z)\n",
    "            w_k=np.array(Wk[:,0]).reshape(x.shape[1],1)\n",
    "            w_i=np.array(WI[0,:]).reshape(x.shape[2],1)\n",
    "\n",
    "            if len(self.derivative_rang)>0:\n",
    "                response=self.__check_smooth_loadings(w_i=w_i[:,0],excitation_wavelenth=self.excitation_wavelenth,\n",
    "                                           w_k=w_k[:,0],emission_wavelenth=self.emission_wavelenth,\n",
    "                                           n_component=f)\n",
    "                self.snr_emission.append(response['Emission'])\n",
    "                self.snr_excitation.append(response['Excitation'])\n",
    "\n",
    "            w_k_mass[f,:,:]=w_k\n",
    "            w_i_mass[f,:,:]=w_i\n",
    "            for h in range(0,x.shape[0]):\n",
    "                Tt[h,f]=np.dot(np.dot(w_i.transpose(),x[h,:,:].transpose()),w_k)\n",
    "            T=np.array(Tt[:,0:f+1]).reshape(x.shape[0],f+1)\n",
    "            bf=np.dot((np.dot(np.linalg.inv(np.dot(T,T.transpose())-(((self.a))*np.eye(x.shape[0]))),T)).transpose(),\n",
    "                        y.reshape([x.shape[0],1]))\n",
    "            bf_array+=[bf]\n",
    "            WW=np.kron(w_k,w_i).reshape(x.shape[1],x.shape[2])\n",
    "            for g in range(0,x.shape[0]):\n",
    "                mmas[g,:,:]=Tt[g,f]*WW\n",
    "            x=np.array(x-(mmas))\n",
    "            y=(y-(np.dot(T,bf)).reshape(x.shape[0]))\n",
    "            mass+=(np.dot(T,bf)).reshape(x.shape[0]).reshape(x.shape[0])\n",
    "            bf=0\n",
    "        self.bf_array=bf_array\n",
    "        self.train_error=(np.square(mass - y_copy)).mean(axis=None)\n",
    "        self.w_k=w_k_mass\n",
    "        self.w_i=w_i_mass\n",
    "\n",
    "        return self\n",
    "\n",
    "    def predict(self, xtest):\n",
    "        x=xtest.copy()\n",
    "        Tt=np.zeros([x.shape[0],self.n_components])\n",
    "        y=np.zeros([x.shape[0]])\n",
    "        mmas=np.zeros([x.shape[0],x.shape[1],x.shape[2]])\n",
    "        for f in range(0,self.n_components):\n",
    "            w_k=self.w_k[f,:,:]\n",
    "            w_i=self.w_i[f,:,:]\n",
    "            for h in range(0,x.shape[0]):\n",
    "                Tt[h,f]=np.dot(np.dot(w_i.transpose(),x[h,:,:].transpose()),w_k)\n",
    "            T=np.array(Tt[:,0:f+1]).reshape(x.shape[0],f+1)\n",
    "            WW=np.kron(w_k,w_i).reshape(x.shape[1],x.shape[2])\n",
    "            for g in range(0,x.shape[0]):\n",
    "                mmas[g,:,:]=Tt[g,f]*WW\n",
    "            x=np.array(x-(mmas))\n",
    "            y=(y+(np.dot(T,self.bf_array[f])).reshape(x.shape[0]))\n",
    "        return y\n",
    "\n",
    "\n"
   ]
  },
  {
   "cell_type": "code",
   "execution_count": 2,
   "metadata": {},
   "outputs": [],
   "source": [
    "a=[[[1,0,0],[0,1,0],[0,0,1]],[[0,1,0],[1,0,0],[0,0,1]]]\n",
    "a=np.array(a)\n",
    "b=np.array([1,2])"
   ]
  },
  {
   "cell_type": "code",
   "execution_count": 26,
   "metadata": {},
   "outputs": [],
   "source": [
    "m=npls_1(crash_norm_name='evklid',derivative_rang=[1],\n",
    "         emission_wavelenth=np.array([1,2,3]),\n",
    "         excitation_wavelenth=np.array([1,2,3]),\n",
    "         crash_norm_value=-9)"
   ]
  },
  {
   "cell_type": "code",
   "execution_count": 27,
   "metadata": {},
   "outputs": [
    {
     "name": "stderr",
     "output_type": "stream",
     "text": [
      "/tmp/ipykernel_228957/2901293805.py:113: DeprecationWarning: Conversion of an array with ndim > 0 to a scalar is deprecated, and will error in future. Ensure you extract a single element from your array before performing this operation. (Deprecated NumPy 1.25.)\n",
      "  Tt[h,f]=np.dot(np.dot(w_i.transpose(),x[h,:,:].transpose()),w_k)\n"
     ]
    },
    {
     "data": {
      "text/html": [
       "<style>#sk-container-id-4 {color: black;}#sk-container-id-4 pre{padding: 0;}#sk-container-id-4 div.sk-toggleable {background-color: white;}#sk-container-id-4 label.sk-toggleable__label {cursor: pointer;display: block;width: 100%;margin-bottom: 0;padding: 0.3em;box-sizing: border-box;text-align: center;}#sk-container-id-4 label.sk-toggleable__label-arrow:before {content: \"▸\";float: left;margin-right: 0.25em;color: #696969;}#sk-container-id-4 label.sk-toggleable__label-arrow:hover:before {color: black;}#sk-container-id-4 div.sk-estimator:hover label.sk-toggleable__label-arrow:before {color: black;}#sk-container-id-4 div.sk-toggleable__content {max-height: 0;max-width: 0;overflow: hidden;text-align: left;background-color: #f0f8ff;}#sk-container-id-4 div.sk-toggleable__content pre {margin: 0.2em;color: black;border-radius: 0.25em;background-color: #f0f8ff;}#sk-container-id-4 input.sk-toggleable__control:checked~div.sk-toggleable__content {max-height: 200px;max-width: 100%;overflow: auto;}#sk-container-id-4 input.sk-toggleable__control:checked~label.sk-toggleable__label-arrow:before {content: \"▾\";}#sk-container-id-4 div.sk-estimator input.sk-toggleable__control:checked~label.sk-toggleable__label {background-color: #d4ebff;}#sk-container-id-4 div.sk-label input.sk-toggleable__control:checked~label.sk-toggleable__label {background-color: #d4ebff;}#sk-container-id-4 input.sk-hidden--visually {border: 0;clip: rect(1px 1px 1px 1px);clip: rect(1px, 1px, 1px, 1px);height: 1px;margin: -1px;overflow: hidden;padding: 0;position: absolute;width: 1px;}#sk-container-id-4 div.sk-estimator {font-family: monospace;background-color: #f0f8ff;border: 1px dotted black;border-radius: 0.25em;box-sizing: border-box;margin-bottom: 0.5em;}#sk-container-id-4 div.sk-estimator:hover {background-color: #d4ebff;}#sk-container-id-4 div.sk-parallel-item::after {content: \"\";width: 100%;border-bottom: 1px solid gray;flex-grow: 1;}#sk-container-id-4 div.sk-label:hover label.sk-toggleable__label {background-color: #d4ebff;}#sk-container-id-4 div.sk-serial::before {content: \"\";position: absolute;border-left: 1px solid gray;box-sizing: border-box;top: 0;bottom: 0;left: 50%;z-index: 0;}#sk-container-id-4 div.sk-serial {display: flex;flex-direction: column;align-items: center;background-color: white;padding-right: 0.2em;padding-left: 0.2em;position: relative;}#sk-container-id-4 div.sk-item {position: relative;z-index: 1;}#sk-container-id-4 div.sk-parallel {display: flex;align-items: stretch;justify-content: center;background-color: white;position: relative;}#sk-container-id-4 div.sk-item::before, #sk-container-id-4 div.sk-parallel-item::before {content: \"\";position: absolute;border-left: 1px solid gray;box-sizing: border-box;top: 0;bottom: 0;left: 50%;z-index: -1;}#sk-container-id-4 div.sk-parallel-item {display: flex;flex-direction: column;z-index: 1;position: relative;background-color: white;}#sk-container-id-4 div.sk-parallel-item:first-child::after {align-self: flex-end;width: 50%;}#sk-container-id-4 div.sk-parallel-item:last-child::after {align-self: flex-start;width: 50%;}#sk-container-id-4 div.sk-parallel-item:only-child::after {width: 0;}#sk-container-id-4 div.sk-dashed-wrapped {border: 1px dashed gray;margin: 0 0.4em 0.5em 0.4em;box-sizing: border-box;padding-bottom: 0.4em;background-color: white;}#sk-container-id-4 div.sk-label label {font-family: monospace;font-weight: bold;display: inline-block;line-height: 1.2em;}#sk-container-id-4 div.sk-label-container {text-align: center;}#sk-container-id-4 div.sk-container {/* jupyter's `normalize.less` sets `[hidden] { display: none; }` but bootstrap.min.css set `[hidden] { display: none !important; }` so we also need the `!important` here to be able to override the default hidden behavior on the sphinx rendered scikit-learn.org. See: https://github.com/scikit-learn/scikit-learn/issues/21755 */display: inline-block !important;position: relative;}#sk-container-id-4 div.sk-text-repr-fallback {display: none;}</style><div id=\"sk-container-id-4\" class=\"sk-top-container\"><div class=\"sk-text-repr-fallback\"><pre>npls_1(crash_norm_name=&#x27;evklid&#x27;, crash_norm_value=-9, derivative_rang=[1],\n",
       "       emission_wavelenth=array([1, 2, 3]),\n",
       "       excitation_wavelenth=array([1, 2, 3]))</pre><b>In a Jupyter environment, please rerun this cell to show the HTML representation or trust the notebook. <br />On GitHub, the HTML representation is unable to render, please try loading this page with nbviewer.org.</b></div><div class=\"sk-container\" hidden><div class=\"sk-item\"><div class=\"sk-estimator sk-toggleable\"><input class=\"sk-toggleable__control sk-hidden--visually\" id=\"sk-estimator-id-4\" type=\"checkbox\" checked><label for=\"sk-estimator-id-4\" class=\"sk-toggleable__label sk-toggleable__label-arrow\">npls_1</label><div class=\"sk-toggleable__content\"><pre>npls_1(crash_norm_name=&#x27;evklid&#x27;, crash_norm_value=-9, derivative_rang=[1],\n",
       "       emission_wavelenth=array([1, 2, 3]),\n",
       "       excitation_wavelenth=array([1, 2, 3]))</pre></div></div></div></div></div>"
      ],
      "text/plain": [
       "npls_1(crash_norm_name='evklid', crash_norm_value=-9, derivative_rang=[1],\n",
       "       emission_wavelenth=array([1, 2, 3]),\n",
       "       excitation_wavelenth=array([1, 2, 3]))"
      ]
     },
     "execution_count": 27,
     "metadata": {},
     "output_type": "execute_result"
    }
   ],
   "source": [
    "m.fit(a,b)"
   ]
  },
  {
   "cell_type": "code",
   "execution_count": 28,
   "metadata": {},
   "outputs": [
    {
     "name": "stderr",
     "output_type": "stream",
     "text": [
      "/tmp/ipykernel_228957/2901293805.py:141: DeprecationWarning: Conversion of an array with ndim > 0 to a scalar is deprecated, and will error in future. Ensure you extract a single element from your array before performing this operation. (Deprecated NumPy 1.25.)\n",
      "  Tt[h,f]=np.dot(np.dot(w_i.transpose(),x[h,:,:].transpose()),w_k)\n"
     ]
    },
    {
     "data": {
      "text/plain": [
       "array([15., 15.])"
      ]
     },
     "execution_count": 28,
     "metadata": {},
     "output_type": "execute_result"
    }
   ],
   "source": [
    "m.predict(a)"
   ]
  },
  {
   "cell_type": "code",
   "execution_count": 9,
   "metadata": {},
   "outputs": [
    {
     "data": {
      "text/plain": [
       "{'fit': {'xtrain': None, 'ytrain': None}, 'predict': {'xtest': None}, 'score': {'sample_weight': None}}"
      ]
     },
     "execution_count": 9,
     "metadata": {},
     "output_type": "execute_result"
    }
   ],
   "source": [
    "m."
   ]
  }
 ],
 "metadata": {
  "kernelspec": {
   "display_name": "Python 3",
   "language": "python",
   "name": "python3"
  },
  "language_info": {
   "codemirror_mode": {
    "name": "ipython",
    "version": 3
   },
   "file_extension": ".py",
   "mimetype": "text/x-python",
   "name": "python",
   "nbconvert_exporter": "python",
   "pygments_lexer": "ipython3",
   "version": "3.11.6"
  }
 },
 "nbformat": 4,
 "nbformat_minor": 2
}
